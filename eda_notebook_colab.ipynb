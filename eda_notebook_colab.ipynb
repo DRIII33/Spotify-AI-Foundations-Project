# Cell 1: Library Imports and Data Loading
import pandas as pd
import matplotlib.pyplot as plt
import seaborn as sns
import os

# Check for file existence before loading
if not os.path.exists('user_behavior.csv') or not os.path.exists('gen_shuffle_events.csv') or not os.path.exists('qualitative_ratings.csv'):
  print("Please upload the following files: user_behavior.csv, gen_shuffle_events.csv, qualitative_ratings.csv")

# Load the raw datasets
user_behavior_df = pd.read_csv('user_behavior.csv')
gen_shuffle_events_df = pd.read_csv('gen_shuffle_events.csv')
ratings_df = pd.read_csv('qualitative_ratings.csv')

print("✅ Data loaded successfully.")

# Cell 2: Data Joining and Preparation
# Perform a LEFT JOIN on the user_id column
user_behavior_with_ai = pd.merge(user_behavior_df, gen_shuffle_events_df,
                                 on='user_id',
                                 how='left',
                                 suffixes=('', '_ai_event'))
user_behavior_with_ai = user_behavior_with_ai.drop(columns=['event_timestamp_ai_event', 'event_type_ai_event'], errors='ignore')

print("✅ Datasets joined successfully.")
print("The new combined dataframe has the following shape:", user_behavior_with_ai.shape)

# Cell 3: Exploratory Data Analysis (Initial Metrics)
print("--- Stream Duration Distribution ---")
print(user_behavior_df['stream_duration_sec'].describe())

print("\n--- Qualitative Ratings Summary ---")
print(ratings_df[['human_coherence_rating', 'llm_coherence_rating']].describe())

# Cell 4: Stream Duration Visualization
plt.figure(figsize=(10, 6))
sns.histplot(user_behavior_df['stream_duration_sec'], bins=50, kde=True)
plt.title('Distribution of Stream Durations (in seconds)')
plt.xlabel('Stream Duration')
plt.ylabel('Count of Streams')
plt.show()

# Cell 5: Skip Rate Comparison
user_behavior_with_ai['ai_user'] = user_behavior_with_ai['event_type'].notna().astype(int)
skip_rate_by_group = user_behavior_with_ai.groupby('ai_user')['skipped_flag'].mean().reset_index()

plt.figure(figsize=(8, 6))
sns.barplot(x='ai_user', y='skipped_flag', data=skip_rate_by_group)
plt.title('Average Skip Rate by AI Feature Exposure')
plt.xticks(ticks=[0, 1], labels=['Non-AI Users', 'AI Users'])
plt.ylabel('Average Skip Rate')
plt.show()

# Cell 6: Qualitative Ratings Visualization
ratings_df.set_index('commentary_text')[['human_coherence_rating', 'llm_coherence_rating']].plot(kind='bar', figsize=(12, 7))
plt.title('Human vs. LLM Coherence Ratings for Sample Commentary')
plt.ylabel('Rating (1-5)')
plt.xticks(rotation=45, ha='right')
plt.show()
